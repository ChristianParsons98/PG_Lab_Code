{
  "nbformat": 4,
  "nbformat_minor": 0,
  "metadata": {
    "colab": {
      "provenance": [],
      "authorship_tag": "ABX9TyNvOr4Bclw/I34rKa8Zu40p",
      "include_colab_link": true
    },
    "kernelspec": {
      "name": "python3",
      "display_name": "Python 3"
    },
    "language_info": {
      "name": "python"
    }
  },
  "cells": [
    {
      "cell_type": "markdown",
      "metadata": {
        "id": "view-in-github",
        "colab_type": "text"
      },
      "source": [
        "<a href=\"https://colab.research.google.com/github/ChristianParsons98/PG_Lab_Code/blob/main/Chem_Mass_Calculator.ipynb\" target=\"_parent\"><img src=\"https://colab.research.google.com/assets/colab-badge.svg\" alt=\"Open In Colab\"/></a>"
      ]
    },
    {
      "cell_type": "code",
      "execution_count": 1,
      "metadata": {
        "id": "_1Pb2nG430em"
      },
      "outputs": [],
      "source": [
        "import numpy as np\n"
      ]
    },
    {
      "cell_type": "code",
      "source": [
        "############################################################\n",
        "# Created: February 11 2025                                #\n",
        "# by: Christian Parsons                                    #\n",
        "# Updated: February 11 2025                                #\n",
        "# Authors: Christian Parsons                               #\n",
        "#                                                          #\n",
        "#                                                          #\n",
        "# This notebook is used to calculate the mass              #\n",
        "# of input chemicals for a given output                    #\n",
        "#                                                          #\n",
        "############################################################"
      ],
      "metadata": {
        "id": "K6aI7LTc42Ei"
      },
      "execution_count": 3,
      "outputs": []
    },
    {
      "cell_type": "code",
      "source": [
        "#Creating a dictionary of the chemical element abreviations as the key and the atomic mass as the value.\n",
        "atomic_masses = {\n",
        "    \"H\": 1.008, \"He\": 4.0026, \"Li\": 6.94, \"Be\": 9.0122, \"B\": 10.81, \"C\": 12.011, \"N\": 14.007, \"O\": 15.999,\n",
        "    \"F\": 18.998, \"Ne\": 20.180, \"Na\": 22.990, \"Mg\": 24.305, \"Al\": 26.982, \"Si\": 28.085, \"P\": 30.974, \"S\": 32.06,\n",
        "    \"Cl\": 35.45, \"Ar\": 39.948, \"K\": 39.098, \"Ca\": 40.078, \"Sc\": 44.956, \"Ti\": 47.867, \"V\": 50.941, \"Cr\": 51.996,\n",
        "    \"Mn\": 54.938, \"Fe\": 55.845, \"Co\": 58.933, \"Ni\": 58.693, \"Cu\": 63.546, \"Zn\": 65.38, \"Ga\": 69.723, \"Ge\": 72.630,\n",
        "    \"As\": 74.922, \"Se\": 78.971, \"Br\": 79.904, \"Kr\": 83.798, \"Rb\": 85.468, \"Sr\": 87.62, \"Y\": 88.906, \"Zr\": 91.224,\n",
        "    \"Nb\": 92.906, \"Mo\": 95.95, \"Tc\": 98.0, \"Ru\": 101.07, \"Rh\": 102.91, \"Pd\": 106.42, \"Ag\": 107.87, \"Cd\": 112.41,\n",
        "    \"In\": 114.82, \"Sn\": 118.71, \"Sb\": 121.76, \"Te\": 127.60, \"I\": 126.90, \"Xe\": 131.29, \"Cs\": 132.91, \"Ba\": 137.33,\n",
        "    \"La\": 138.91, \"Ce\": 140.12, \"Pr\": 140.91, \"Nd\": 144.24, \"Pm\": 145.0, \"Sm\": 150.36, \"Eu\": 151.96, \"Gd\": 157.25,\n",
        "    \"Tb\": 158.93, \"Dy\": 162.50, \"Ho\": 164.93, \"Er\": 167.26, \"Tm\": 168.93, \"Yb\": 173.05, \"Lu\": 174.97, \"Hf\": 178.49,\n",
        "    \"Ta\": 180.95, \"W\": 183.84, \"Re\": 186.21, \"Os\": 190.23, \"Ir\": 192.22, \"Pt\": 195.08, \"Au\": 196.97, \"Hg\": 200.59,\n",
        "    \"Tl\": 204.38, \"Pb\": 207.2, \"Bi\": 208.98, \"Th\": 232.04, \"Pa\": 231.04, \"U\": 238.03, \"Np\": 237.0, \"Pu\": 244.0,\n",
        "    \"Am\": 243.0, \"Cm\": 247.0, \"Bk\": 247.0, \"Cf\": 251.0, \"Es\": 252.0, \"Fm\": 257.0, \"Md\": 258.0, \"No\": 259.0,\n",
        "    \"Lr\": 266.0, \"Rf\": 267.0, \"Db\": 270.0, \"Sg\": 271.0, \"Bh\": 270.0, \"Hs\": 277.0, \"Mt\": 278.0, \"Ds\": 281.0,\n",
        "    \"Rg\": 282.0, \"Cn\": 285.0, \"Nh\": 286.0, \"Fl\": 289.0, \"Mc\": 290.0, \"Lv\": 293.0, \"Ts\": 294.0, \"Og\": 294.0\n",
        "}"
      ],
      "metadata": {
        "id": "eHWdMcwB5K4M"
      },
      "execution_count": 4,
      "outputs": []
    },
    {
      "cell_type": "code",
      "source": [],
      "metadata": {
        "id": "mJaajoh575ar"
      },
      "execution_count": 5,
      "outputs": []
    },
    {
      "cell_type": "code",
      "source": [],
      "metadata": {
        "id": "XFssn9PL79VE"
      },
      "execution_count": null,
      "outputs": []
    }
  ]
}