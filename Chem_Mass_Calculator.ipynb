{
  "nbformat": 4,
  "nbformat_minor": 0,
  "metadata": {
    "colab": {
      "provenance": [],
      "authorship_tag": "ABX9TyMAWjtfhcSJzyQS+e5BHTIR",
      "include_colab_link": true
    },
    "kernelspec": {
      "name": "python3",
      "display_name": "Python 3"
    },
    "language_info": {
      "name": "python"
    }
  },
  "cells": [
    {
      "cell_type": "markdown",
      "metadata": {
        "id": "view-in-github",
        "colab_type": "text"
      },
      "source": [
        "<a href=\"https://colab.research.google.com/github/ChristianParsons98/PG_Lab_Code/blob/main/Chem_Mass_Calculator.ipynb\" target=\"_parent\"><img src=\"https://colab.research.google.com/assets/colab-badge.svg\" alt=\"Open In Colab\"/></a>"
      ]
    },
    {
      "cell_type": "code",
      "execution_count": 17,
      "metadata": {
        "id": "_1Pb2nG430em"
      },
      "outputs": [],
      "source": [
        "import numpy as np\n",
        "from sympy import Matrix\n",
        "from sympy import symbols, Eq, solve\n",
        "import re"
      ]
    },
    {
      "cell_type": "code",
      "source": [
        "############################################################\n",
        "# Created: February 11 2025                                #\n",
        "# by: Christian Parsons                                    #\n",
        "# Updated: February 11 2025                                #\n",
        "# Authors: Christian Parsons                               #\n",
        "#                                                          #\n",
        "#                                                          #\n",
        "# This notebook is used to calculate the mass              #\n",
        "# of input chemicals for a given output                    #\n",
        "#                                                          #\n",
        "############################################################"
      ],
      "metadata": {
        "id": "K6aI7LTc42Ei"
      },
      "execution_count": 18,
      "outputs": []
    },
    {
      "cell_type": "code",
      "source": [
        "#Creating a dictionary of the chemical element abreviations as the key and the atomic mass as the value.\n",
        "atomic_masses = {\n",
        "    \"H\": 1.008, \"He\": 4.0026, \"Li\": 6.94, \"Be\": 9.0122, \"B\": 10.81, \"C\": 12.011, \"N\": 14.007, \"O\": 15.999,\n",
        "    \"F\": 18.998, \"Ne\": 20.180, \"Na\": 22.990, \"Mg\": 24.305, \"Al\": 26.982, \"Si\": 28.085, \"P\": 30.974, \"S\": 32.06,\n",
        "    \"Cl\": 35.45, \"Ar\": 39.948, \"K\": 39.098, \"Ca\": 40.078, \"Sc\": 44.956, \"Ti\": 47.867, \"V\": 50.941, \"Cr\": 51.996,\n",
        "    \"Mn\": 54.938, \"Fe\": 55.845, \"Co\": 58.933, \"Ni\": 58.693, \"Cu\": 63.546, \"Zn\": 65.38, \"Ga\": 69.723, \"Ge\": 72.630,\n",
        "    \"As\": 74.922, \"Se\": 78.971, \"Br\": 79.904, \"Kr\": 83.798, \"Rb\": 85.468, \"Sr\": 87.62, \"Y\": 88.906, \"Zr\": 91.224,\n",
        "    \"Nb\": 92.906, \"Mo\": 95.95, \"Tc\": 98.0, \"Ru\": 101.07, \"Rh\": 102.91, \"Pd\": 106.42, \"Ag\": 107.87, \"Cd\": 112.41,\n",
        "    \"In\": 114.82, \"Sn\": 118.71, \"Sb\": 121.76, \"Te\": 127.60, \"I\": 126.90, \"Xe\": 131.29, \"Cs\": 132.91, \"Ba\": 137.33,\n",
        "    \"La\": 138.91, \"Ce\": 140.12, \"Pr\": 140.91, \"Nd\": 144.24, \"Pm\": 145.0, \"Sm\": 150.36, \"Eu\": 151.96, \"Gd\": 157.25,\n",
        "    \"Tb\": 158.93, \"Dy\": 162.50, \"Ho\": 164.93, \"Er\": 167.26, \"Tm\": 168.93, \"Yb\": 173.05, \"Lu\": 174.97, \"Hf\": 178.49,\n",
        "    \"Ta\": 180.95, \"W\": 183.84, \"Re\": 186.21, \"Os\": 190.23, \"Ir\": 192.22, \"Pt\": 195.08, \"Au\": 196.97, \"Hg\": 200.59,\n",
        "    \"Tl\": 204.38, \"Pb\": 207.2, \"Bi\": 208.98, \"Th\": 232.04, \"Pa\": 231.04, \"U\": 238.03, \"Np\": 237.0, \"Pu\": 244.0,\n",
        "    \"Am\": 243.0, \"Cm\": 247.0, \"Bk\": 247.0, \"Cf\": 251.0, \"Es\": 252.0, \"Fm\": 257.0, \"Md\": 258.0, \"No\": 259.0,\n",
        "    \"Lr\": 266.0, \"Rf\": 267.0, \"Db\": 270.0, \"Sg\": 271.0, \"Bh\": 270.0, \"Hs\": 277.0, \"Mt\": 278.0, \"Ds\": 281.0,\n",
        "    \"Rg\": 282.0, \"Cn\": 285.0, \"Nh\": 286.0, \"Fl\": 289.0, \"Mc\": 290.0, \"Lv\": 293.0, \"Ts\": 294.0, \"Og\": 294.0\n",
        "}"
      ],
      "metadata": {
        "id": "eHWdMcwB5K4M"
      },
      "execution_count": 19,
      "outputs": []
    },
    {
      "cell_type": "code",
      "source": [
        "#Parses a chemical formula into a dictionary of element counts.\n",
        "#Example: parse_formula(\"Na3PS4\") -> {\"Na\": 3, \"P\": 1, \"S\": 4}\n",
        "\n",
        "def parse_formula(formula):\n",
        "    element_pattern = re.findall(r'([A-Z][a-z]*)(\\d*)', formula)\n",
        "    return {el: int(count) if count else 1 for el, count in element_pattern}"
      ],
      "metadata": {
        "id": "uv0AxazFJzFh"
      },
      "execution_count": 20,
      "outputs": []
    },
    {
      "cell_type": "code",
      "source": [
        "print(parse_formula(\"Na3PS4\"))"
      ],
      "metadata": {
        "colab": {
          "base_uri": "https://localhost:8080/"
        },
        "id": "GWVah2P2KPgp",
        "outputId": "66ba60bf-1cc2-47c0-a0f9-7c7d469a3174"
      },
      "execution_count": 21,
      "outputs": [
        {
          "output_type": "stream",
          "name": "stdout",
          "text": [
            "{'Na': 3, 'P': 1, 'S': 4}\n"
          ]
        }
      ]
    },
    {
      "cell_type": "code",
      "source": [
        "#This function finds the correct ratio of reactants to produce one mole of the given product.\n",
        "#Give the product as a list of dictionaries of the form [{\"H\": 2, \"O\": 1}]\n",
        "#and the reactants as a list of dictionaries the form [{\"H\": 2, \"O\": 1},{\"H\": 2, \"O\": 1}].\n",
        "\n",
        "\n",
        "def find_stoichiometric_ratios(reactant_compositions, product_compositions):\n",
        "    \"\"\"\n",
        "    Finds the correct stoichiometric ratios for a balanced chemical reaction using matrix algebra.\n",
        "\n",
        "    Parameters:\n",
        "    reactant_compositions (list): List of dictionaries representing reactants' compositions.\n",
        "    product_compositions (list) : List of dictionaries representing products' compositions.\n",
        "\n",
        "    Returns:\n",
        "    tuple: Two lists containing the stoichiometric coefficients for reactants and products.\n",
        "    \"\"\"\n",
        "    all_species = reactant_compositions + product_compositions\n",
        "    num_reactants = len(reactant_compositions)\n",
        "    num_products = len(product_compositions)\n",
        "\n",
        "    # Extract all unique elements involved in the reaction\n",
        "    elements = set()\n",
        "    for species in all_species:\n",
        "        elements.update(species.keys())\n",
        "\n",
        "    elements = sorted(elements)  # Keep element order consistent\n",
        "    num_elements = len(elements)\n",
        "\n",
        "    # Construct the stoichiometric matrix\n",
        "    matrix = np.zeros((num_elements, num_reactants + num_products))\n",
        "\n",
        "    for i, element in enumerate(elements):\n",
        "        for j, species in enumerate(reactant_compositions):\n",
        "            matrix[i, j] = species.get(element, 0)  # Reactants are positive\n",
        "        for j, species in enumerate(product_compositions):\n",
        "            matrix[i, num_reactants + j] = -species.get(element, 0)  # Products are negative\n",
        "\n",
        "    # Convert to sympy matrix to find null space (solution space)\n",
        "    M = Matrix(matrix)\n",
        "    null_space = M.nullspace()\n",
        "\n",
        "    if not null_space:\n",
        "        return \"No valid solution found.\"\n",
        "\n",
        "    # Extract the smallest integer solution\n",
        "    coeffs = np.array(null_space[0]).astype(float).flatten()\n",
        "    coeffs = np.abs(coeffs)  # Ensure positive coefficients\n",
        "    coeffs /= np.min(coeffs[coeffs > 0])  # Normalize to the smallest integer coefficient\n",
        "\n",
        "    # Split coefficients into reactants and products\n",
        "    reactant_values = coeffs[:num_reactants]\n",
        "    product_values = coeffs[num_reactants:]\n",
        "\n",
        "    return reactant_values.tolist(), product_values.tolist()"
      ],
      "metadata": {
        "id": "mJaajoh575ar"
      },
      "execution_count": 22,
      "outputs": []
    },
    {
      "cell_type": "code",
      "source": [
        "# Example 1:\n",
        "reactants_hashed = [{\"C\": 1, \"O\": 2}, {\"H\": 2, \"O\": 1}]  # CO2, H2O\n",
        "products_hashed = [{\"C\": 1, \"H\": 4}, {\"O\": 2}]  # CH4, O2\n",
        "ratios = find_stoichiometric_ratios(reactants_hashed, products_hashed)\n",
        "print(ratios)  # Expected Output: ([1.0, 2.0], [1.0, 2.0]) for CO2 + 2H2O -> CH4 + 2O2"
      ],
      "metadata": {
        "colab": {
          "base_uri": "https://localhost:8080/"
        },
        "id": "kWsGk8MOJmM1",
        "outputId": "c36939fa-531e-4d35-c36c-416f27fd42e3"
      },
      "execution_count": 23,
      "outputs": [
        {
          "output_type": "stream",
          "name": "stdout",
          "text": [
            "([1.0, 2.0], [1.0, 2.0])\n"
          ]
        }
      ]
    },
    {
      "cell_type": "code",
      "source": [
        "# Example #2:\n",
        "product_hashed = [{\"Na\": 3, \"P\": 1,\"S\":4}]  # Na3PS4\n",
        "reactants_hashed = [{\"P\": 2,\"S\":5}, {\"Na\": 2,\"S\":1}]  # P2S5, Na2S1\n",
        "ratios = find_stoichiometric_ratios(product_hashed, reactants_hashed)\n",
        "print(ratios)  # Output: ([2.0], [1.0, 3.0])"
      ],
      "metadata": {
        "colab": {
          "base_uri": "https://localhost:8080/"
        },
        "id": "XFssn9PL79VE",
        "outputId": "f9769c02-efe3-42e5-b4d6-a3cfbbc97190"
      },
      "execution_count": 24,
      "outputs": [
        {
          "output_type": "stream",
          "name": "stdout",
          "text": [
            "([2.0], [1.0, 3.0])\n"
          ]
        }
      ]
    },
    {
      "cell_type": "code",
      "source": [],
      "metadata": {
        "id": "lE2kDeZLFcOs"
      },
      "execution_count": 24,
      "outputs": []
    },
    {
      "cell_type": "code",
      "source": [],
      "metadata": {
        "id": "Znqq33pnz9T5"
      },
      "execution_count": 24,
      "outputs": []
    },
    {
      "cell_type": "code",
      "source": [
        "def compute_mass_ratios(reactants_hashed, products_hashed, target_product_mass, product_index=0):\n",
        "\n",
        "    def get_molar_mass(compound):\n",
        "        #\"\"\"Computes the molar mass of a chemical compound.\"\"\"\n",
        "        return sum(atomic_masses[element] * count for element, count in compound.items())\n",
        "\n",
        "    # Get balanced reaction coefficients\n",
        "    reactant_ratios, product_ratios = find_stoichiometric_ratios(reactants_hashed, products_hashed)\n",
        "\n",
        "    if isinstance(reactant_ratios, str):  # If balancing failed\n",
        "        return \"No valid reaction found.\"\n",
        "\n",
        "    # Compute molar masses\n",
        "    product_molar_masses = [get_molar_mass(comp) for comp in products_hashed]\n",
        "    reactant_molar_masses = [get_molar_mass(comp) for comp in reactants_hashed]\n",
        "\n",
        "    # Select the specified product as reference\n",
        "    reference_molar_mass = product_molar_masses[product_index]  # Molar mass of the reference product\n",
        "    reference_ratio = product_ratios[product_index]  # Stoichiometric coefficient of reference product\n",
        "\n",
        "    # Mass of 1 mole of the selected product\n",
        "    mass_per_mole_product = reference_ratio * reference_molar_mass\n",
        "\n",
        "    # Scale factor for the target product mass\n",
        "    scale_factor = target_product_mass / mass_per_mole_product\n",
        "\n",
        "    # Compute mass of reactants required\n",
        "    reactant_masses = {\n",
        "        f\"Reactant {i+1}\": reactant_ratios[i] * reactant_molar_masses[i] * scale_factor\n",
        "        for i in range(len(reactants_hashed))\n",
        "    }\n",
        "\n",
        "    # Compute mass of other products produced\n",
        "    product_masses = {\n",
        "        f\"Product {i+1}\": product_ratios[i] * product_molar_masses[i] * scale_factor\n",
        "        for i in range(len(products_hashed))\n",
        "    }\n",
        "\n",
        "    return reactant_masses, product_masses"
      ],
      "metadata": {
        "id": "kA62y_1N0NF_"
      },
      "execution_count": 25,
      "outputs": []
    },
    {
      "cell_type": "code",
      "source": [
        "# Example usage:\n",
        "reactants_hashed = [{\"C\": 1, \"O\": 2}, {\"H\": 2, \"O\": 1}]  # CO2, H2O\n",
        "products_hashed = [{\"C\": 1, \"H\": 4}, {\"O\": 2}]  # CH4, O2\n",
        "target_mass = 10  # 10g of CH4\n",
        "\n",
        "reactant_masses, product_masses = compute_mass_ratios(reactants_hashed, products_hashed, target_mass)\n",
        "print(\"Mass of reactants needed:\", reactant_masses)\n",
        "print(\"Mass of products produced:\", product_masses)"
      ],
      "metadata": {
        "colab": {
          "base_uri": "https://localhost:8080/"
        },
        "id": "VcnSZiVY1W9y",
        "outputId": "57638104-f2d1-47e5-d0d0-c4a19060a6cf"
      },
      "execution_count": 26,
      "outputs": [
        {
          "output_type": "stream",
          "name": "stdout",
          "text": [
            "Mass of reactants needed: {'Reactant 1': 27.43190176400923, 'Reactant 2': 22.458393068628066}\n",
            "Mass of products produced: {'Product 1': 10.0, 'Product 2': 39.890294832637295}\n"
          ]
        }
      ]
    },
    {
      "cell_type": "code",
      "source": [
        "# Test:\n",
        "reactants_hashed = [{\"Ca\": 1}, {\"O\": 2}]  # Ca, O2\n",
        "products_hashed = [{\"Ca\": 1, \"O\": 1}]  # CaO2\n",
        "ratios = find_stoichiometric_ratios(reactants_hashed, products_hashed)\n",
        "print(ratios)  # Expected Output: ([2.0, 1.0], [2.0]) for 2Ca + O2 -> 2CaO\n",
        "\n",
        "target_mass = 51  # 10g of CH4\n",
        "\n",
        "reactant_masses, product_masses = compute_mass_ratios(reactants_hashed, products_hashed, target_mass)\n",
        "print(\"Mass of reactants needed:\", reactant_masses)\n",
        "print(\"Mass of products produced:\", product_masses)"
      ],
      "metadata": {
        "colab": {
          "base_uri": "https://localhost:8080/"
        },
        "id": "1QSIwBU41gE-",
        "outputId": "e63ac0c4-6777-48ff-cfbf-0d61aa68d63c"
      },
      "execution_count": 27,
      "outputs": [
        {
          "output_type": "stream",
          "name": "stdout",
          "text": [
            "([2.0, 1.0], [2.0])\n",
            "Mass of reactants needed: {'Reactant 1': 36.44948909535103, 'Reactant 2': 14.550510904648965}\n",
            "Mass of products produced: {'Product 1': 51.0}\n"
          ]
        }
      ]
    },
    {
      "cell_type": "code",
      "source": [
        "def compute_mass_ratios(reactants_hashed, products_hashed, reactant_ratios, product_ratios, target_product_mass, product_index=0):\n",
        "\n",
        "    def get_molar_mass(compound):\n",
        "        \"\"\"Computes the molar mass of a chemical compound.\"\"\"\n",
        "        return sum(atomic_masses[element] * count for element, count in compound.items())\n",
        "\n",
        "    # Compute molar masses of all reactants and products\n",
        "    product_molar_masses = [get_molar_mass(comp) for comp in products_hashed]\n",
        "    reactant_molar_masses = [get_molar_mass(comp) for comp in reactants_hashed]\n",
        "\n",
        "    # Select the specified product as reference\n",
        "    reference_molar_mass = product_molar_masses[product_index]  # Molar mass of the reference product\n",
        "    reference_ratio = product_ratios[product_index]  # Stoichiometric coefficient of reference product\n",
        "\n",
        "    # Mass of 1 mole of the selected product\n",
        "    mass_per_mole_product = reference_ratio * reference_molar_mass\n",
        "\n",
        "    # Scale factor for the target product mass\n",
        "    scale_factor = target_product_mass / mass_per_mole_product\n",
        "\n",
        "    # Compute mass of reactants required\n",
        "    reactant_masses = {\n",
        "        f\"Reactant {i+1}\": reactant_ratios[i] * reactant_molar_masses[i] * scale_factor\n",
        "        for i in range(len(reactants_hashed))\n",
        "    }\n",
        "\n",
        "    # Compute mass of other products produced\n",
        "    product_masses = {\n",
        "        f\"Product {i+1}\": product_ratios[i] * product_molar_masses[i] * scale_factor\n",
        "        for i in range(len(products_hashed))\n",
        "    }\n",
        "\n",
        "    return reactant_masses, product_masses\n"
      ],
      "metadata": {
        "id": "RmOyhjmkZ1Vp"
      },
      "execution_count": 32,
      "outputs": []
    },
    {
      "cell_type": "code",
      "source": [
        "reactants_hashed = [{\"Ca\": 1}, {\"O\": 2}]  # Ca, O2\n",
        "products_hashed = [{\"Ca\": 1, \"O\": 1}]  # CaO2\n",
        "\n",
        "# Get the balanced reaction coefficients\n",
        "reactant_ratios, product_ratios = find_stoichiometric_ratios(reactants_hashed, products_hashed)\n",
        "\n",
        "# Specify the desired product mass\n",
        "target_mass = 53  # 10g of CH4\n",
        "\n",
        "# Compute mass ratios\n",
        "reactant_masses, product_masses = compute_mass_ratios(\n",
        "    reactants_hashed, products_hashed, reactant_ratios, product_ratios, target_mass\n",
        ")\n",
        "\n",
        "#Answer should be {'Reactant 1': 37.878880824580484, 'Reactant 2': 15.121119175419512}\n",
        "print(\"Mass of reactants needed:\", reactant_masses)\n",
        "print(\"Mass of products produced:\", product_masses)"
      ],
      "metadata": {
        "colab": {
          "base_uri": "https://localhost:8080/"
        },
        "id": "Z3jrjUUtcIzZ",
        "outputId": "79e407c3-064c-4f2f-a343-e12fc24fd3cd"
      },
      "execution_count": 33,
      "outputs": [
        {
          "output_type": "stream",
          "name": "stdout",
          "text": [
            "Mass of reactants needed: {'Reactant 1': 37.878880824580484, 'Reactant 2': 15.121119175419512}\n",
            "Mass of products produced: {'Product 1': 53.0}\n"
          ]
        }
      ]
    },
    {
      "cell_type": "code",
      "source": [],
      "metadata": {
        "id": "nTQ_-tg_cUat"
      },
      "execution_count": 29,
      "outputs": []
    }
  ]
}