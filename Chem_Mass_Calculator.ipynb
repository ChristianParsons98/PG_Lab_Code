{
  "nbformat": 4,
  "nbformat_minor": 0,
  "metadata": {
    "colab": {
      "provenance": [],
      "authorship_tag": "ABX9TyP+xbF+aBJ2gaksxWaG/Xux",
      "include_colab_link": true
    },
    "kernelspec": {
      "name": "python3",
      "display_name": "Python 3"
    },
    "language_info": {
      "name": "python"
    }
  },
  "cells": [
    {
      "cell_type": "markdown",
      "metadata": {
        "id": "view-in-github",
        "colab_type": "text"
      },
      "source": [
        "<a href=\"https://colab.research.google.com/github/ChristianParsons98/PG_Lab_Code/blob/main/Chem_Mass_Calculator.ipynb\" target=\"_parent\"><img src=\"https://colab.research.google.com/assets/colab-badge.svg\" alt=\"Open In Colab\"/></a>"
      ]
    },
    {
      "cell_type": "code",
      "execution_count": 1,
      "metadata": {
        "id": "_1Pb2nG430em"
      },
      "outputs": [],
      "source": [
        "import numpy as np\n"
      ]
    },
    {
      "cell_type": "code",
      "source": [
        "############################################################\n",
        "# Created: February 11 2025                                #\n",
        "# by: Christian Parsons                                    #\n",
        "# Updated: February 11 2025                                #\n",
        "# Authors: Christian Parsons                               #\n",
        "#                                                          #\n",
        "#                                                          #\n",
        "# This notebook is used to calculate the mass              #\n",
        "# of input chemicals for a given output                    #\n",
        "#                                                          #\n",
        "############################################################"
      ],
      "metadata": {
        "id": "K6aI7LTc42Ei"
      },
      "execution_count": 2,
      "outputs": []
    },
    {
      "cell_type": "code",
      "source": [],
      "metadata": {
        "id": "eHWdMcwB5K4M"
      },
      "execution_count": null,
      "outputs": []
    }
  ]
}