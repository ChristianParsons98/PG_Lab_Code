{
  "nbformat": 4,
  "nbformat_minor": 0,
  "metadata": {
    "colab": {
      "provenance": [],
      "authorship_tag": "ABX9TyO92X+dMvtW+nbz4YjmnaKk",
      "include_colab_link": true
    },
    "kernelspec": {
      "name": "python3",
      "display_name": "Python 3"
    },
    "language_info": {
      "name": "python"
    }
  },
  "cells": [
    {
      "cell_type": "markdown",
      "metadata": {
        "id": "view-in-github",
        "colab_type": "text"
      },
      "source": [
        "<a href=\"https://colab.research.google.com/github/ChristianParsons98/PG_Lab_Code/blob/main/User_Stoichiometry_Calc.ipynb\" target=\"_parent\"><img src=\"https://colab.research.google.com/assets/colab-badge.svg\" alt=\"Open In Colab\"/></a>"
      ]
    },
    {
      "cell_type": "code",
      "execution_count": 1,
      "metadata": {
        "id": "PZC7d16qlCtD"
      },
      "outputs": [],
      "source": [
        "############################################################\n",
        "# Created: February 11 2025                                #\n",
        "# by: Christian Parsons                                    #\n",
        "# Updated: February 19 2025                                #\n",
        "# Authors: Christian Parsons                               #\n",
        "#                                                          #\n",
        "# Better for use by users                                  #\n",
        "# This notebook is used to calculate the mass              #\n",
        "# of input chemicals for a given output                    #\n",
        "#                                                          #\n",
        "# Run the first block of code which will define all the    #\n",
        "# needed functions and a list of atomic masses.            #\n",
        "#                                                          #\n",
        "############################################################"
      ]
    },
    {
      "cell_type": "code",
      "source": [
        "import numpy as np\n",
        "from sympy import Matrix\n",
        "from sympy import symbols, Eq, solve\n",
        "import re\n",
        "\n",
        "#Creating a dictionary of the chemical element abreviations as the key and the atomic mass as the value.\n",
        "atomic_masses = {\n",
        "    \"H\": 1.008, \"He\": 4.0026, \"Li\": 6.94, \"Be\": 9.0122, \"B\": 10.81, \"C\": 12.011, \"N\": 14.007, \"O\": 15.999,\n",
        "    \"F\": 18.998, \"Ne\": 20.180, \"Na\": 22.990, \"Mg\": 24.305, \"Al\": 26.982, \"Si\": 28.085, \"P\": 30.974, \"S\": 32.06,\n",
        "    \"Cl\": 35.45, \"Ar\": 39.948, \"K\": 39.098, \"Ca\": 40.078, \"Sc\": 44.956, \"Ti\": 47.867, \"V\": 50.941, \"Cr\": 51.996,\n",
        "    \"Mn\": 54.938, \"Fe\": 55.845, \"Co\": 58.933, \"Ni\": 58.693, \"Cu\": 63.546, \"Zn\": 65.38, \"Ga\": 69.723, \"Ge\": 72.630,\n",
        "    \"As\": 74.922, \"Se\": 78.971, \"Br\": 79.904, \"Kr\": 83.798, \"Rb\": 85.468, \"Sr\": 87.62, \"Y\": 88.906, \"Zr\": 91.224,\n",
        "    \"Nb\": 92.906, \"Mo\": 95.95, \"Tc\": 98.0, \"Ru\": 101.07, \"Rh\": 102.91, \"Pd\": 106.42, \"Ag\": 107.87, \"Cd\": 112.41,\n",
        "    \"In\": 114.82, \"Sn\": 118.71, \"Sb\": 121.76, \"Te\": 127.60, \"I\": 126.90, \"Xe\": 131.29, \"Cs\": 132.91, \"Ba\": 137.33,\n",
        "    \"La\": 138.91, \"Ce\": 140.12, \"Pr\": 140.91, \"Nd\": 144.24, \"Pm\": 145.0, \"Sm\": 150.36, \"Eu\": 151.96, \"Gd\": 157.25,\n",
        "    \"Tb\": 158.93, \"Dy\": 162.50, \"Ho\": 164.93, \"Er\": 167.26, \"Tm\": 168.93, \"Yb\": 173.05, \"Lu\": 174.97, \"Hf\": 178.49,\n",
        "    \"Ta\": 180.95, \"W\": 183.84, \"Re\": 186.21, \"Os\": 190.23, \"Ir\": 192.22, \"Pt\": 195.08, \"Au\": 196.97, \"Hg\": 200.59,\n",
        "    \"Tl\": 204.38, \"Pb\": 207.2, \"Bi\": 208.98, \"Th\": 232.04, \"Pa\": 231.04, \"U\": 238.03, \"Np\": 237.0, \"Pu\": 244.0,\n",
        "    \"Am\": 243.0, \"Cm\": 247.0, \"Bk\": 247.0, \"Cf\": 251.0, \"Es\": 252.0, \"Fm\": 257.0, \"Md\": 258.0, \"No\": 259.0,\n",
        "    \"Lr\": 266.0, \"Rf\": 267.0, \"Db\": 270.0, \"Sg\": 271.0, \"Bh\": 270.0, \"Hs\": 277.0, \"Mt\": 278.0, \"Ds\": 281.0,\n",
        "    \"Rg\": 282.0, \"Cn\": 285.0, \"Nh\": 286.0, \"Fl\": 289.0, \"Mc\": 290.0, \"Lv\": 293.0, \"Ts\": 294.0, \"Og\": 294.0\n",
        "}\n",
        "\n",
        "\n",
        "\n",
        "#Parses a chemical formula into a dictionary of element counts.\n",
        "#Example: parse_formula(\"Na3PS4\") -> {\"Na\": 3, \"P\": 1, \"S\": 4}\n",
        "\n",
        "def parse_formula(formula):\n",
        "    element_pattern = re.findall(r'([A-Z][a-z]*)(\\d*)', formula)\n",
        "    return {el: int(count) if count else 1 for el, count in element_pattern}\n",
        "\n",
        "#Function to take the parsed formula (as a dictionary) back to the standard chemical formula.\n",
        "def dict_to_formula(compound):\n",
        "    return ''.join(f\"{element}{count if count > 1 else ''}\" for element, count in compound.items())\n",
        "\n",
        "#Scales a dictionary. To use for scaling to integer atoms.\n",
        "def scale_dictionary(data, factor):\n",
        "    return {key: round(value * factor) for key, value in data.items()}\n",
        "\n",
        "\n",
        "#This function finds the correct ratio of reactants to produce one mole of the given product.\n",
        "#Give the product as a list of dictionaries of the form [{\"H\": 2, \"O\": 1}]\n",
        "#and the reactants as a list of dictionaries the form [{\"H\": 2, \"O\": 1},{\"H\": 2, \"O\": 1}].\n",
        "\n",
        "def find_stoichiometric_ratios(reactant_compositions, product_compositions):\n",
        "\n",
        "    all_species = reactant_compositions + product_compositions\n",
        "    num_reactants = len(reactant_compositions)\n",
        "    num_products = len(product_compositions)\n",
        "\n",
        "    # Extract all unique elements involved in the reaction\n",
        "    elements = set()\n",
        "    for species in all_species:\n",
        "        elements.update(species.keys())\n",
        "\n",
        "    elements = sorted(elements)  # Keep element order consistent\n",
        "    num_elements = len(elements)\n",
        "\n",
        "    # Construct the stoichiometric matrix\n",
        "    matrix = np.zeros((num_elements, num_reactants + num_products))\n",
        "\n",
        "    for i, element in enumerate(elements):\n",
        "        for j, species in enumerate(reactant_compositions):\n",
        "            matrix[i, j] = species.get(element, 0)  # Reactants are positive\n",
        "        for j, species in enumerate(product_compositions):\n",
        "            matrix[i, num_reactants + j] = -species.get(element, 0)  # Products are negative\n",
        "\n",
        "    # Convert to sympy matrix to find null space (solution space)\n",
        "    M = Matrix(matrix)\n",
        "    null_space = M.nullspace()\n",
        "\n",
        "    if not null_space:\n",
        "        return \"No valid solution found.\"\n",
        "\n",
        "    # Extract the smallest integer solution\n",
        "    coeffs = np.array(null_space[0]).astype(float).flatten()\n",
        "    coeffs = np.abs(coeffs)  # Ensure positive coefficients\n",
        "    coeffs /= np.min(coeffs[coeffs > 0])  # Normalize to the smallest integer coefficient\n",
        "\n",
        "    # Split coefficients into reactants and products\n",
        "    reactant_values = coeffs[:num_reactants]\n",
        "    product_values = coeffs[num_reactants:]\n",
        "\n",
        "    return reactant_values.tolist(), product_values.tolist()\n",
        "\n",
        "\n",
        "#This function takes the hashed reactants and products and the ratios from find_stoichiometric_ratios.\n",
        "#It also takes the target product mass for the product at a given index. Set to the first product in the list\n",
        "# by default, but can be changed.\n",
        "def compute_mass_ratios(reactants_hashed, products_hashed, reactant_ratios, product_ratios, target_product_mass, product_index=0):\n",
        "    #Helper function to calculate the molar mass.\n",
        "    def get_molar_mass(compound):\n",
        "        return sum(atomic_masses[element] * count for element, count in compound.items())\n",
        "\n",
        "    # Compute molar masses of all reactants and products\n",
        "    product_molar_masses = [get_molar_mass(comp) for comp in products_hashed]\n",
        "    reactant_molar_masses = [get_molar_mass(comp) for comp in reactants_hashed]\n",
        "\n",
        "    # Select the specified product as reference\n",
        "    reference_molar_mass = product_molar_masses[product_index]  # Molar mass of the reference product\n",
        "    reference_ratio = product_ratios[product_index]  # Stoichiometric coefficient of reference product\n",
        "\n",
        "    # Mass of 1 mole of the selected product\n",
        "    mass_per_mole_product = reference_ratio * reference_molar_mass\n",
        "\n",
        "    # Scale factor for the target product mass\n",
        "    scale_factor = target_product_mass / mass_per_mole_product\n",
        "\n",
        "    # Compute mass of reactants required\n",
        "    reactant_masses = [\n",
        "        reactant_ratios[i] * reactant_molar_masses[i] * scale_factor\n",
        "        for i in range(len(reactants_hashed))\n",
        "    ]\n",
        "\n",
        "    # Compute mass of other products produced\n",
        "    product_masses = [\n",
        "        product_ratios[i] * product_molar_masses[i] * scale_factor\n",
        "        for i in range(len(products_hashed))\n",
        "    ]\n",
        "\n",
        "    return reactant_masses, product_masses\n"
      ],
      "metadata": {
        "id": "RiAFxoqClWRK"
      },
      "execution_count": 2,
      "outputs": []
    },
    {
      "cell_type": "code",
      "source": [
        "#Example showing how to use for a simple Reaction Na2S + P2S5 -> Na3PS4\n",
        "\n",
        "#Hash your chemical formula if you dont want to manually write it in the proper format.\n",
        "reactants_hashed = [parse_formula(\"Na2S\"),parse_formula(\"P2S5\")] #Will give [{\"Na\": 2,\"S\":1},{\"P\": 2,\"S\":5}]\n",
        "products_hashed = [parse_formula(\"Na3PS4\")] #Will give [{\"Na\": 3,\"P\": 1,\"S\":4}]\n",
        "\n",
        "# Get the balanced reaction coefficients\n",
        "reactant_ratios, product_ratios = find_stoichiometric_ratios(reactants_hashed, products_hashed) #Will give ([2.0], [3.0, 1.0])\n",
        "\n",
        "# Specify the desired product mass\n",
        "target_mass = 10  # 10g of Na3PS4\n",
        "\n",
        "# Compute mass ratios\n",
        "reactant_masses, product_masses = compute_mass_ratios(\n",
        "    reactants_hashed, products_hashed, reactant_ratios, product_ratios, target_mass\n",
        ")\n",
        "\n",
        "#Print out the results in a nice format.\n",
        "print(\"Products:\")\n",
        "for i in range(len(product_masses)):\n",
        "    print(dict_to_formula(products_hashed[i]),\":\",product_masses[i],'grams')\n",
        "print(\"Reactants:\")\n",
        "for i in range(len(reactant_masses)):\n",
        "    print(dict_to_formula(reactants_hashed[i]),\":\",reactant_masses[i],'grams')"
      ],
      "metadata": {
        "colab": {
          "base_uri": "https://localhost:8080/"
        },
        "id": "W9mwAF0Yuma8",
        "outputId": "5ab6d472-3248-4683-9361-48b372980123"
      },
      "execution_count": 3,
      "outputs": [
        {
          "output_type": "stream",
          "name": "stdout",
          "text": [
            "Products:\n",
            "Na3PS4 : 10.0 grams\n",
            "Reactants:\n",
            "Na2S : 5.13007046944571 grams\n",
            "P2S5 : 4.869929530554289 grams\n"
          ]
        }
      ]
    },
    {
      "cell_type": "code",
      "source": [
        "#More Complicated Example with multiple variables\n",
        "#The Product is Na_{3-2x-y}Ca_{x}PS_{4-y}Cl_{y} where x and y are variables\n",
        "#The reactants are Na2S, P2S5, NaCl, CaS\n",
        "#For balancing the chemical formula, elements must be scaled up to integers and then balanced.\n",
        "\n",
        "x=0.0675\n",
        "y=0.03125\n",
        "\n",
        "#Hash your chemical formula if you dont want to manually write it in the proper format.\n",
        "reactants_hashed = [parse_formula(\"Na2S\"),parse_formula(\"P2S5\"),parse_formula(\"NaCl\"),parse_formula(\"CaS\")]\n",
        "products_hashed = [{\"Na\": 3.-2.*x-y,\"Ca\": x,\"P\": 1,\"S\":4.-y,\"Cl\": y}]  #Will give [{\"Na\": 3,\"P\": 1,\"S\":4}]\n",
        "\n",
        "#You need to scale the atoms up to integers. for very small values of x or y, you may need to increase scale factor.\n",
        "for i in range(len(products_hashed)):\n",
        "    products_hashed[i] = scale_dictionary(products_hashed[0],100000.)\n",
        "\n",
        "# Get the balanced reaction coefficients\n",
        "reactant_ratios, product_ratios = find_stoichiometric_ratios(reactants_hashed, products_hashed)\n",
        "\n",
        "# Specify the desired product mass\n",
        "target_mass = 3  # 3g of Na3PS4\n",
        "\n",
        "# Compute mass ratios\n",
        "reactant_masses, product_masses = compute_mass_ratios(\n",
        "    reactants_hashed, products_hashed, reactant_ratios, product_ratios, target_mass\n",
        ")\n",
        "\n",
        "#Print out the results in a nice format.\n",
        "print(\"Products:\", product_ratios)\n",
        "for i in range(len(product_masses)):\n",
        "    print(products_hashed[i],\":\",product_masses[i],'grams')\n",
        "print(\"Reactants:\", reactant_ratios)\n",
        "for i in range(len(reactant_masses)):\n",
        "    print(dict_to_formula(reactants_hashed[i]),\":\",reactant_masses[i],'grams')"
      ],
      "metadata": {
        "colab": {
          "base_uri": "https://localhost:8080/"
        },
        "id": "idffTgtSuPRI",
        "outputId": "99d8da66-61de-479c-a607-3a0449a4993b"
      },
      "execution_count": 8,
      "outputs": [
        {
          "output_type": "stream",
          "name": "stdout",
          "text": [
            "Products: [1.0]\n",
            "{'Na': 283375, 'Ca': 6750, 'P': 100000, 'S': 396875, 'Cl': 3125} : 3.0 grams\n",
            "Reactants: [140125.0, 50000.0, 3125.0, 6750.0]\n",
            "Na2S : 1.4440998002778629 grams\n",
            "P2S5 : 1.4674799876737177 grams\n",
            "NaCl : 0.024117070367239538 grams\n",
            "CaS : 0.06430314168118002 grams\n"
          ]
        }
      ]
    },
    {
      "cell_type": "code",
      "source": [],
      "metadata": {
        "id": "wIA9oSF6rqOx"
      },
      "execution_count": 4,
      "outputs": []
    },
    {
      "cell_type": "code",
      "source": [],
      "metadata": {
        "id": "sUdP9BENsvSd"
      },
      "execution_count": null,
      "outputs": []
    }
  ]
}